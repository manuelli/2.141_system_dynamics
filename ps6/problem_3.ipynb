{
 "cells": [
  {
   "cell_type": "code",
   "execution_count": null,
   "metadata": {
    "collapsed": false
   },
   "outputs": [],
   "source": [
    "import numpy as np\n",
    "import scipy\n",
    "import math\n",
    "from scipy.integrate import ode\n",
    "from scipy.integrate import odeint\n",
    "import matplotlib\n",
    "import matplotlib.pyplot as plt\n",
    "%matplotlib inline  "
   ]
  },
  {
   "cell_type": "code",
   "execution_count": null,
   "metadata": {
    "collapsed": false
   },
   "outputs": [],
   "source": [
    "# constants to define\n",
    "\n",
    "figure_1 = False\n",
    "figure_2 = True\n",
    "figure_3 = False\n",
    "\n",
    "if figure_1:\n",
    "    P_0_bar = 69.95\n",
    "    V_0 = 1687.38 * 1e-6\n",
    "    \n",
    "\n",
    "if figure_2 or figure_3:\n",
    "    P_0_bar = 30.24 # nominal pressure\n",
    "    V_0 = 0.002 # m^3 = 2 liters, for Figures 2 and 3\n",
    "    \n",
    "    if figure_2:\n",
    "        amplitude = 0.05 # amplitude of oscillations, dimensionless\n",
    "    if figure_3:\n",
    "        amplitude = 0.1\n",
    "\n",
    "c_v = 0.743 * 1e3 # J/(kg K) specific heat for constant volume\n",
    "T_zero = 273.15 # 0 degrees Celsius in Kelvin\n",
    "T_e = 20 + T_zero # ambient air temperature (should be in Kelvin), suppose things happen at 20 C\n",
    "T_0 = T_e\n",
    "R_specific = 296.8 # J kg^{-1} K ^{-1} specific gas constant\n",
    "R = R_specific\n",
    "omega_hz = 0.01 # oscillation frequency in Hz\n",
    "omega_rad_per_sec = 2 * np.pi * omega_hz # frequency in radians per second\n",
    "\n",
    "P_0 = P_0_bar * 1e5 # pressure in pascal\n",
    "\n",
    "radius = (V_0/np.pi)**(1.0/3) # assuming radius  = height\n",
    "h = 8 # W/(m^2 K), convection heat transfer coefficient \n",
    "h = 20\n",
    "A_w = 2 * np.pi * radius**2 # m^2\n",
    "\n",
    "H = h * A_w\n",
    "H = 2.0 # just a guess\n",
    "m = P_0 * V_0 / (R_specific * T_e) # mass of gas\n"
   ]
  },
  {
   "cell_type": "code",
   "execution_count": null,
   "metadata": {
    "collapsed": false
   },
   "outputs": [],
   "source": [
    "# function definitions\n",
    "\n",
    "def V(t):\n",
    "    x = V_0 * ( 1 + amplitude*math.sin(omega_rad_per_sec * t) )\n",
    "    return x\n",
    "    \n",
    "def V_dot(t):\n",
    "    x = V_0 * amplitude * omega_rad_per_sec * math.cos(omega_rad_per_sec * t)\n",
    "    return x\n",
    "\n",
    "def f(y,t):\n",
    "    y_dot = 1/(m*c_v) * (H*(T_e - y) - m*R*y/V(t) * V_dot(t))\n",
    "    return y_dot    \n",
    "\n"
   ]
  },
  {
   "cell_type": "code",
   "execution_count": null,
   "metadata": {
    "collapsed": false
   },
   "outputs": [],
   "source": [
    "y0 = T_0\n",
    "t_final = 5/omega_hz\n",
    "t_vec = np.linspace(0, t_final, t_final)\n",
    "sol = odeint(f, y0, t_vec)\n",
    "\n",
    "T_vec = sol[:,0]\n",
    "V_vec = np.array([V(t) for t in t_vec])\n",
    "V_norm = (V_vec - V_0)/V_0\n",
    "\n",
    "\n",
    "P_vec = m*R*np.divide(T_vec, V_vec)\n",
    "P_norm = (P_vec - P_0)/P_0\n",
    "# print sol\n",
    "# print sol.shape"
   ]
  },
  {
   "cell_type": "code",
   "execution_count": null,
   "metadata": {
    "collapsed": false
   },
   "outputs": [],
   "source": [
    "# plot the resulting temperature\n",
    "# plt.plot(t_vec, sol[:, 0], 'b', label='T(t)')\n",
    "# plt.title(\"Temperature\")\n",
    "# plt.show()\n",
    "\n",
    "# plt.plot(t_vec, V_norm)\n",
    "# plt.title('Volume')\n",
    "# plt.show()\n",
    "\n",
    "\n",
    "# plt.plot(t_vec, P_norm)\n",
    "# plt.title('Pressure')\n",
    "# plt.show()\n",
    "\n",
    "idx = t_vec.size/2\n",
    "\n",
    "plt.plot(V_norm[idx:], P_vec[idx:]/1e5)\n",
    "plt.ylabel('Pressure (bar)')\n",
    "plt.xlabel('Volume normalized (V - V_0)/V_0')\n",
    "plt.show()\n",
    "\n",
    "\n",
    "plt.plot(V_norm[idx:], P_norm[idx:])\n",
    "plt.ylabel('Pressure normalized')\n",
    "plt.xlabel('Volume normalized (V - V_0)/V_0')\n",
    "plt.show()"
   ]
  },
  {
   "cell_type": "code",
   "execution_count": null,
   "metadata": {
    "collapsed": false
   },
   "outputs": [],
   "source": [
    "V(0)"
   ]
  },
  {
   "cell_type": "code",
   "execution_count": null,
   "metadata": {
    "collapsed": true
   },
   "outputs": [],
   "source": []
  }
 ],
 "metadata": {
  "kernelspec": {
   "display_name": "Python 2",
   "language": "python",
   "name": "python2"
  },
  "language_info": {
   "codemirror_mode": {
    "name": "ipython",
    "version": 2
   },
   "file_extension": ".py",
   "mimetype": "text/x-python",
   "name": "python",
   "nbconvert_exporter": "python",
   "pygments_lexer": "ipython2",
   "version": "2.7.12"
  }
 },
 "nbformat": 4,
 "nbformat_minor": 0
}
