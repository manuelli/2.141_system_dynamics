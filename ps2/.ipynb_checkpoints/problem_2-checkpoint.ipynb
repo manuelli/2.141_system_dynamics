{
 "cells": [
  {
   "cell_type": "code",
   "execution_count": 1,
   "metadata": {
    "collapsed": true
   },
   "outputs": [],
   "source": [
    "import numpy as np"
   ]
  },
  {
   "cell_type": "code",
   "execution_count": 5,
   "metadata": {
    "collapsed": false
   },
   "outputs": [
    {
     "name": "stdout",
     "output_type": "stream",
     "text": [
      "C_1 6.10399995117e-07\n",
      "C_2 0.151818181818\n",
      "C_3 1.51818181818\n",
      "I_1 167\n",
      "I_2 16.7\n"
     ]
    }
   ],
   "source": [
    "## Computing compliance of C_1\n",
    "g = 9.81\n",
    "I_1 = 136\n",
    "C_1 = 0.001/(I_1*g)\n",
    "I_2 = 0.1 * I_1\n",
    "omega = 16.7\n",
    "C_3 = 1/(11 * I_2) * omega**2\n",
    "C_2 = 1/10.0*C_3\n",
    "\n",
    "print \"C_1\", C_1\n",
    "print \"C_2\", C_2\n",
    "print \"C_3\", C_3\n",
    "print \"I_1\", I_1\n",
    "print \"I_2\", I_2"
   ]
  },
  {
   "cell_type": "code",
   "execution_count": null,
   "metadata": {
    "collapsed": true
   },
   "outputs": [],
   "source": []
  }
 ],
 "metadata": {
  "kernelspec": {
   "display_name": "Python 2",
   "language": "python",
   "name": "python2"
  },
  "language_info": {
   "codemirror_mode": {
    "name": "ipython",
    "version": 2
   },
   "file_extension": ".py",
   "mimetype": "text/x-python",
   "name": "python",
   "nbconvert_exporter": "python",
   "pygments_lexer": "ipython2",
   "version": "2.7.12"
  }
 },
 "nbformat": 4,
 "nbformat_minor": 0
}
