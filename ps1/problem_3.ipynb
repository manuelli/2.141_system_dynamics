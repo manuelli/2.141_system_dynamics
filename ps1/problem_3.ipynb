{
 "cells": [
  {
   "cell_type": "code",
   "execution_count": 2,
   "metadata": {
    "collapsed": true
   },
   "outputs": [],
   "source": [
    "import numpy as np"
   ]
  },
  {
   "cell_type": "code",
   "execution_count": 19,
   "metadata": {
    "collapsed": false
   },
   "outputs": [
    {
     "name": "stdout",
     "output_type": "stream",
     "text": [
      "I_piston_rod 0.144635980528\n",
      "I_fluid 352.682260933\n",
      "I_pipeline 352.025269328\n",
      "mu 1.4125e-07\n",
      "R_f 2.82871860865\n"
     ]
    }
   ],
   "source": [
    "rho_s = 0.284\n",
    "rho_w = 0.036\n",
    "I_piston_rod = rho_s * np.pi/4.0 * ( 0.25**2 * 7 + 0.75**2 * 0.375)\n",
    "I_pipeline = rho_w * 4/np.pi * 120/0.125**2\n",
    "I_cyl = rho_w * 4/np.pi * 8/0.75**2\n",
    "I_bellows = rho_w * 4/np.pi * 1.0/3**2\n",
    "I_fluid = I_pipeline + I_cyl + I_bellows\n",
    "mu = 2.034 * 1e-5 / 12**2\n",
    "R_f = 8 * mu * 120 / (np.pi * (0.125/2.0)**4) # resistance of flow through pipe\n",
    "C = 1/500.0\n",
    "\n",
    "print \"I_piston_rod\", I_piston_rod\n",
    "print \"I_fluid\", I_fluid\n",
    "print \"I_pipeline\", I_pipeline\n",
    "print \"mu\", mu\n",
    "print \"R_f\", R_f"
   ]
  },
  {
   "cell_type": "code",
   "execution_count": 20,
   "metadata": {
    "collapsed": false
   },
   "outputs": [
    {
     "data": {
      "text/plain": [
       "0.9981371572152667"
      ]
     },
     "execution_count": 20,
     "metadata": {},
     "output_type": "execute_result"
    }
   ],
   "source": [
    "I_pipeline/I_fluid"
   ]
  },
  {
   "cell_type": "code",
   "execution_count": 21,
   "metadata": {
    "collapsed": false
   },
   "outputs": [
    {
     "name": "stdout",
     "output_type": "stream",
     "text": [
      "0.441786466911\n",
      "T_2 0.141471060526\n"
     ]
    }
   ],
   "source": [
    "T_1 = np.pi/4 * 0.75**2\n",
    "print T_1\n",
    "T_2 = 4/np.pi * (1/3.0**2)\n",
    "print \"T_2\", T_2"
   ]
  },
  {
   "cell_type": "code",
   "execution_count": 22,
   "metadata": {
    "collapsed": false
   },
   "outputs": [
    {
     "name": "stdout",
     "output_type": "stream",
     "text": [
      "I_m 68.9794958366\n",
      "T 0.0625\n",
      "R 0.55209595312\n"
     ]
    }
   ],
   "source": [
    "I_m = I_piston_rod + T_1**2 * I_fluid\n",
    "T = T_1*T_2\n",
    "R = T_1**2 * R_f\n",
    "\n",
    "print \"I_m\", I_m\n",
    "print \"T\", T\n",
    "print \"R\", R"
   ]
  },
  {
   "cell_type": "code",
   "execution_count": 23,
   "metadata": {
    "collapsed": false
   },
   "outputs": [
    {
     "name": "stdout",
     "output_type": "stream",
     "text": [
      "F_step 7.8125\n"
     ]
    }
   ],
   "source": [
    "F_step = T/C * (0.25)\n",
    "print \"F_step\", F_step"
   ]
  },
  {
   "cell_type": "code",
   "execution_count": 26,
   "metadata": {
    "collapsed": false
   },
   "outputs": [
    {
     "data": {
      "text/plain": [
       "0.0020967967187070524"
      ]
     },
     "execution_count": 26,
     "metadata": {},
     "output_type": "execute_result"
    }
   ],
   "source": [
    "I_piston_rod/I_m"
   ]
  },
  {
   "cell_type": "code",
   "execution_count": 27,
   "metadata": {
    "collapsed": false
   },
   "outputs": [
    {
     "data": {
      "text/plain": [
       "1.88"
      ]
     },
     "execution_count": 27,
     "metadata": {},
     "output_type": "execute_result"
    }
   ],
   "source": [
    "0.47/0.25"
   ]
  },
  {
   "cell_type": "code",
   "execution_count": null,
   "metadata": {
    "collapsed": true
   },
   "outputs": [],
   "source": []
  }
 ],
 "metadata": {
  "kernelspec": {
   "display_name": "Python 2",
   "language": "python",
   "name": "python2"
  },
  "language_info": {
   "codemirror_mode": {
    "name": "ipython",
    "version": 2
   },
   "file_extension": ".py",
   "mimetype": "text/x-python",
   "name": "python",
   "nbconvert_exporter": "python",
   "pygments_lexer": "ipython2",
   "version": "2.7.12"
  }
 },
 "nbformat": 4,
 "nbformat_minor": 2
}
